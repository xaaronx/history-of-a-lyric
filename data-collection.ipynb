{
 "cells": [
  {
   "cell_type": "markdown",
   "metadata": {},
   "source": [
    "- Get inspiration for nearby lyrics\n",
    "- Find history of a lyric"
   ]
  },
  {
   "cell_type": "code",
   "execution_count": 129,
   "metadata": {
    "ExecuteTime": {
     "end_time": "2020-04-27T13:57:02.233671Z",
     "start_time": "2020-04-27T13:57:02.227844Z"
    }
   },
   "outputs": [],
   "source": [
    "import requests\n",
    "from re import sub\n",
    "import lyricsgenius as genius"
   ]
  },
  {
   "cell_type": "code",
   "execution_count": 251,
   "metadata": {
    "ExecuteTime": {
     "end_time": "2020-04-28T10:03:51.552267Z",
     "start_time": "2020-04-28T10:03:51.508908Z"
    }
   },
   "outputs": [],
   "source": [
    "client_access_token = 'aKoyAcFSc5wKOQ7-_FWLU3sEPfT6H5av8vVNdiuP4lvEA1jWINFKr9nIiUaSXzVH'"
   ]
  },
  {
   "cell_type": "code",
   "execution_count": 242,
   "metadata": {
    "ExecuteTime": {
     "end_time": "2020-04-27T19:24:11.629442Z",
     "start_time": "2020-04-27T19:24:11.616727Z"
    }
   },
   "outputs": [],
   "source": [
    "def collect_lyrics(raw_lyric, auth_code, max_pages):\n",
    "    '''\n",
    "    Convert string to correct format, issue request\n",
    "    and collect artist and song\n",
    "    '''\n",
    "    \n",
    "    lyric_query = sub('\\s+','%20', raw_lyric).lower()\n",
    "    request_uri = 'https://api.genius.com/search/?q={}'.format(lyric_query)\n",
    "    token = 'Bearer {}'.format(auth_code)\n",
    "    headers = {'Authorization': token}\n",
    "    \n",
    "    current_page = 1\n",
    "    next_page = True\n",
    "    songs = []\n",
    "    while next_page:\n",
    "        params = {'page': current_page}\n",
    "        print('Searching page {}....'.format(current_page))\n",
    "        result = get_artists_and_songs(requests.get(request_uri, headers=headers, params=params))\n",
    "        if result:\n",
    "            songs += result\n",
    "            current_page += 1\n",
    "        else:\n",
    "            next_page = False\n",
    "        if current_page>max_pages:\n",
    "            break\n",
    "    return [song for song in songs if not raw_lyric.lower() in song[1].lower()]\n",
    "\n",
    "def get_artists_and_songs(response):\n",
    "    '''\n",
    "    Convert request info to output of artist and song\n",
    "    '''\n",
    "    output = []\n",
    "    for resp in response.json()['response']['hits']:\n",
    "        try:\n",
    "            output.append((resp['result']['title'],\n",
    "                          resp['result']['primary_artist']['name'],\n",
    "                          resp['result']['stats']['pageviews']))\n",
    "        except:\n",
    "            pass\n",
    "        \n",
    "    return output\n"
   ]
  },
  {
   "cell_type": "code",
   "execution_count": 254,
   "metadata": {
    "ExecuteTime": {
     "end_time": "2020-04-28T10:04:39.118869Z",
     "start_time": "2020-04-28T10:04:26.297979Z"
    }
   },
   "outputs": [
    {
     "name": "stdout",
     "output_type": "stream",
     "text": [
      "What lyric would you like to look for?\n",
      "grey poupon\n",
      "Searching page 1....\n",
      "Searching page 2....\n",
      "Searching page 3....\n",
      "Searching page 4....\n",
      "Searching page 5....\n",
      "Searching page 6....\n",
      "Searching page 7....\n",
      "Searching page 8....\n",
      "Searching page 9....\n",
      "Searching page 10....\n"
     ]
    }
   ],
   "source": [
    "output = collect_lyrics(input('What lyric would you like to look for?\\n'), client_access_token, 10)"
   ]
  },
  {
   "cell_type": "code",
   "execution_count": 266,
   "metadata": {
    "ExecuteTime": {
     "end_time": "2020-04-28T10:19:40.867723Z",
     "start_time": "2020-04-28T10:19:40.861004Z"
    }
   },
   "outputs": [
    {
     "data": {
      "text/plain": [
       "('HUMBLE.', 'Kendrick Lamar', 10508314)"
      ]
     },
     "execution_count": 266,
     "metadata": {},
     "output_type": "execute_result"
    }
   ],
   "source": [
    "output[0][0:2]"
   ]
  },
  {
   "cell_type": "code",
   "execution_count": 278,
   "metadata": {
    "ExecuteTime": {
     "end_time": "2020-04-28T10:26:51.674561Z",
     "start_time": "2020-04-28T10:26:51.670523Z"
    }
   },
   "outputs": [],
   "source": [
    "def prep_sdk(auth_code):\n",
    "    '''\n",
    "    Bring in genius sdk for more complex searches\n",
    "    '''\n",
    "    return genius.Genius(auth_code)"
   ]
  },
  {
   "cell_type": "code",
   "execution_count": 276,
   "metadata": {
    "ExecuteTime": {
     "end_time": "2020-04-28T10:26:44.843412Z",
     "start_time": "2020-04-28T10:26:44.838744Z"
    }
   },
   "outputs": [],
   "source": [
    "def extract_lyrics_for_song_artist(title, artist, genius_object):\n",
    "    '''\n",
    "    Collect all lyrics for a specific song\n",
    "    '''\n",
    "    song = api.search_song(title='HUMBLE.', artist='Kendrick Lamar')\n",
    "    \n",
    "    assert song.artist==artist and song.title==title\n",
    "    return song.lyrics "
   ]
  },
  {
   "cell_type": "code",
   "execution_count": null,
   "metadata": {},
   "outputs": [],
   "source": [
    "def find_surrounding_lyrics(query, lyrics):\n",
    "    '''\n",
    "    Finds where a lyric is in context of the song\n",
    "    '''\n",
    "    "
   ]
  },
  {
   "cell_type": "code",
   "execution_count": 279,
   "metadata": {
    "ExecuteTime": {
     "end_time": "2020-04-28T10:26:53.124242Z",
     "start_time": "2020-04-28T10:26:53.118864Z"
    }
   },
   "outputs": [],
   "source": [
    "api = prep_sdk(client_access_token)"
   ]
  },
  {
   "cell_type": "code",
   "execution_count": 280,
   "metadata": {
    "ExecuteTime": {
     "end_time": "2020-04-28T10:26:57.534403Z",
     "start_time": "2020-04-28T10:26:53.759328Z"
    }
   },
   "outputs": [
    {
     "name": "stdout",
     "output_type": "stream",
     "text": [
      "Searching for \"HUMBLE.\" by Kendrick Lamar...\n",
      "Done.\n"
     ]
    },
    {
     "data": {
      "text/plain": [
       "\"[Intro]\\nNobody pray for me\\nIt's been that day for me\\nWay (Yeah, yeah)\\n\\n[Verse 1]\\nAyy, I remember syrup sandwiches and crime allowances\\nFinesse a nigga with some counterfeits, but now I’m countin' this\\nParmesan where my accountant lives, in fact I'm downin’ this\\nD'USSÉ with my boo bae tastes like Kool-Aid for the analysts\\nGirl, I can buy your ass the world with my paystub\\nOoh, that pussy good, won't you sit it on my taste bloods?\\nI get way too petty once you let me do the extras\\nPull up on your block, then break it down: we playin' Tetris\\nAM to the PM, PM to the AM, funk\\nPiss out your per diem, you just gotta hate 'em, funk\\nIf I quit your BM, I still ride Mercedes, funk\\nIf I quit this season, I still be the greatest, funk\\nMy left stroke just went viral\\nRight stroke put lil' baby in a spiral\\nSoprano C, we like to keep it on a high note\\nIt's levels to it, you and I know\\n\\n[Chorus]\\nBitch, be humble (Hol' up, bitch)\\nSit down (Hol’ up, lil’, hol' up, lil’ bitch)\\nBe humble (Hol' up, bitch)\\nSit down (Hol' up, sit down, lil', sit down, lil’ bitch)\\nBe humble (Hol' up, hol' up)\\nBitch, sit down (Hol' up, hol' up, lil' bitch)\\nBe humble (Lil' bitch, hol' up, bitch)\\nSit down (Hol' up, hol' up, hol' up, hol' up)\\nBe humble (Hol' up, hol' up)\\nSit down (Hol' up, hol' up, lil', hol' up, lil' bitch)\\nBe humble (Hol' up, bitch)\\nSit down (Hol' up, sit down, lil', sit down, lil' bitch)\\nBe humble (Hol' up, hol' up)\\nBitch, sit down (Hol' up, hol' up, lil' bitch)\\nBe humble (Lil' bitch, hol' up, bitch)\\nSit down (Hol' up, hol' up, hol' up, hol' up)\\n\\n[Verse 2]\\nWho that nigga thinkin' that he frontin' on Man-Man? (Man-Man)\\nGet the fuck off my stage, I'm the Sandman (Sandman)\\nGet the fuck off my dick, that ain't right\\nI make a play fucking up your whole life\\nI'm so fuckin' sick and tired of the Photoshop\\nShow me somethin' natural like afro on Richard Pryor\\nShow me somethin' natural like ass with some stretch marks\\nStill will take you down right on your mama's couch in Polo socks\\nAyy, this shit way too crazy, ayy, you do not amaze me, ayy\\nI blew cool from AC, ayy, Obama just paged me, ayy\\nI don't fabricate it, ayy, most of y'all be fakin', ayy\\nI stay modest 'bout it, ayy, she elaborate it, ayy\\nThis that Grey Poupon, that Evian, that TED Talk, ayy\\nWatch my soul speak, you let the meds talk, ayy\\nIf I kill a nigga, it won't be the alcohol, ayy\\nI'm the realest nigga after all\\n\\n[Chorus]\\nBitch, be humble (Hol' up, bitch)\\nSit down (Hol' up, lil', hol' up, lil' bitch)\\nBe humble (Hol' up, bitch)\\nSit down (Hol' up, sit down, lil', sit down, lil' bitch)\\nBe humble (Hol' up, hol' up)\\nBitch, sit down (Hol' up, hol' up, lil' bitch)\\nBe humble (Lil' bitch, hol' up, bitch)\\nSit down (Hol' up, hol' up, hol' up, hol' up)\\nBe humble (Hol' up, hol' up)\\nSit down (Hol' up, hol' up, lil', hol' up, lil' bitch)\\nBe humble (Hol' up, bitch)\\nSit down (Hol' up, sit down, lil', sit down, lil' bitch)\\nBe humble (Hol' up, hol' up)\\nBitch, sit down (Hol' up, hol' up, lil' bitch)\\nBe humble (Lil' bitch, hol' up, bitch)\\nSit down (Hol' up, hol' up, hol' up, hol' up)\""
      ]
     },
     "execution_count": 280,
     "metadata": {},
     "output_type": "execute_result"
    }
   ],
   "source": [
    "extract_lyrics_for_song_artist('HUMBLE.', 'Kendrick Lamar', api)"
   ]
  },
  {
   "cell_type": "code",
   "execution_count": 267,
   "metadata": {
    "ExecuteTime": {
     "end_time": "2020-04-28T10:21:13.128649Z",
     "start_time": "2020-04-28T10:21:09.461118Z"
    }
   },
   "outputs": [
    {
     "name": "stdout",
     "output_type": "stream",
     "text": [
      "Searching for \"HUMBLE.\" by Kendrick Lamar...\n",
      "Done.\n"
     ]
    }
   ],
   "source": [
    "temp = api.search_song(title='HUMBLE.', artist='Kendrick Lamar')"
   ]
  },
  {
   "cell_type": "code",
   "execution_count": 273,
   "metadata": {
    "ExecuteTime": {
     "end_time": "2020-04-28T10:21:49.261206Z",
     "start_time": "2020-04-28T10:21:49.248729Z"
    }
   },
   "outputs": [
    {
     "data": {
      "text/plain": [
       "(\"[Intro]\\nNobody pray for me\\nIt's been that day for me\\nWay (Yeah, yeah)\\n\\n[Verse 1]\\nAyy, I remember syrup sandwiches and crime allowances\\nFinesse a nigga with some counterfeits, but now I’m countin' this\\nParmesan where my accountant lives, in fact I'm downin’ this\\nD'USSÉ with my boo bae tastes like Kool-Aid for the analysts\\nGirl, I can buy your ass the world with my paystub\\nOoh, that pussy good, won't you sit it on my taste bloods?\\nI get way too petty once you let me do the extras\\nPull up on your block, then break it down: we playin' Tetris\\nAM to the PM, PM to the AM, funk\\nPiss out your per diem, you just gotta hate 'em, funk\\nIf I quit your BM, I still ride Mercedes, funk\\nIf I quit this season, I still be the greatest, funk\\nMy left stroke just went viral\\nRight stroke put lil' baby in a spiral\\nSoprano C, we like to keep it on a high note\\nIt's levels to it, you and I know\\n\\n[Chorus]\\nBitch, be humble (Hol' up, bitch)\\nSit down (Hol’ up, lil’, hol' up, lil’ bitch)\\nBe humble (Hol' up, bitch)\\nSit down (Hol' up, sit down, lil', sit down, lil’ bitch)\\nBe humble (Hol' up, hol' up)\\nBitch, sit down (Hol' up, hol' up, lil' bitch)\\nBe humble (Lil' bitch, hol' up, bitch)\\nSit down (Hol' up, hol' up, hol' up, hol' up)\\nBe humble (Hol' up, hol' up)\\nSit down (Hol' up, hol' up, lil', hol' up, lil' bitch)\\nBe humble (Hol' up, bitch)\\nSit down (Hol' up, sit down, lil', sit down, lil' bitch)\\nBe humble (Hol' up, hol' up)\\nBitch, sit down (Hol' up, hol' up, lil' bitch)\\nBe humble (Lil' bitch, hol' up, bitch)\\nSit down (Hol' up, hol' up, hol' up, hol' up)\\n\\n[Verse 2]\\nWho that nigga thinkin' that he frontin' on Man-Man? (Man-Man)\\nGet the fuck off my stage, I'm the Sandman (Sandman)\\nGet the fuck off my dick, that ain't right\\nI make a play fucking up your whole life\\nI'm so fuckin' sick and tired of the Photoshop\\nShow me somethin' natural like afro on Richard Pryor\\nShow me somethin' natural like ass with some stretch marks\\nStill will take you down right on your mama's couch in Polo socks\\nAyy, this shit way too crazy, ayy, you do not amaze me, ayy\\nI blew cool from AC, ayy, Obama just paged me, ayy\\nI don't fabricate it, ayy, most of y'all be fakin', ayy\\nI stay modest 'bout it, ayy, she elaborate it, ayy\\nThis that Grey Poupon, that Evian, that TED Talk, ayy\\nWatch my soul speak, you let the meds talk, ayy\\nIf I kill a nigga, it won't be the alcohol, ayy\\nI'm the realest nigga after all\\n\\n[Chorus]\\nBitch, be humble (Hol' up, bitch)\\nSit down (Hol' up, lil', hol' up, lil' bitch)\\nBe humble (Hol' up, bitch)\\nSit down (Hol' up, sit down, lil', sit down, lil' bitch)\\nBe humble (Hol' up, hol' up)\\nBitch, sit down (Hol' up, hol' up, lil' bitch)\\nBe humble (Lil' bitch, hol' up, bitch)\\nSit down (Hol' up, hol' up, hol' up, hol' up)\\nBe humble (Hol' up, hol' up)\\nSit down (Hol' up, hol' up, lil', hol' up, lil' bitch)\\nBe humble (Hol' up, bitch)\\nSit down (Hol' up, sit down, lil', sit down, lil' bitch)\\nBe humble (Hol' up, hol' up)\\nBitch, sit down (Hol' up, hol' up, lil' bitch)\\nBe humble (Lil' bitch, hol' up, bitch)\\nSit down (Hol' up, hol' up, hol' up, hol' up)\",\n",
       " 'Kendrick Lamar',\n",
       " 'HUMBLE.')"
      ]
     },
     "execution_count": 273,
     "metadata": {},
     "output_type": "execute_result"
    }
   ],
   "source": [
    "temp.lyrics, temp.artist, temp.title"
   ]
  },
  {
   "cell_type": "code",
   "execution_count": 256,
   "metadata": {
    "ExecuteTime": {
     "end_time": "2020-04-28T10:05:15.339880Z",
     "start_time": "2020-04-28T10:05:15.325464Z"
    }
   },
   "outputs": [],
   "source": [
    "def check_lyrics_in_context(auth_code, artist, song):\n",
    "    '''\n",
    "    Check the where the lyrics are found in\n",
    "    their respective songs. Returns one sentence either side of the lyric.\n",
    "    '''\n",
    "    song_query = sub('\\s+','%20', song).lower()\n",
    "    request_uri = 'https://api.genius.com/songs/?text_format={}'.format(song_query)\n",
    "    token = 'Bearer {}'.format(auth_code)\n",
    "    headers = {'Authorization': token}"
   ]
  }
 ],
 "metadata": {
  "kernelspec": {
   "display_name": "Python 3",
   "language": "python",
   "name": "python3"
  },
  "language_info": {
   "codemirror_mode": {
    "name": "ipython",
    "version": 3
   },
   "file_extension": ".py",
   "mimetype": "text/x-python",
   "name": "python",
   "nbconvert_exporter": "python",
   "pygments_lexer": "ipython3",
   "version": "3.7.3"
  },
  "varInspector": {
   "cols": {
    "lenName": 16,
    "lenType": 16,
    "lenVar": 40
   },
   "kernels_config": {
    "python": {
     "delete_cmd_postfix": "",
     "delete_cmd_prefix": "del ",
     "library": "var_list.py",
     "varRefreshCmd": "print(var_dic_list())"
    },
    "r": {
     "delete_cmd_postfix": ") ",
     "delete_cmd_prefix": "rm(",
     "library": "var_list.r",
     "varRefreshCmd": "cat(var_dic_list()) "
    }
   },
   "types_to_exclude": [
    "module",
    "function",
    "builtin_function_or_method",
    "instance",
    "_Feature"
   ],
   "window_display": false
  }
 },
 "nbformat": 4,
 "nbformat_minor": 2
}

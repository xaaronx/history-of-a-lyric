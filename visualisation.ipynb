{
 "cells": [
  {
   "cell_type": "markdown",
   "metadata": {},
   "source": [
    "# Visualisation - *grey poupon*"
   ]
  },
  {
   "cell_type": "markdown",
   "metadata": {},
   "source": [
    "Using the scraper, data was collected for the lyric 'grey poupon'.\n",
    "\n",
    "This notebook looks to explore this data."
   ]
  },
  {
   "cell_type": "code",
   "execution_count": 268,
   "metadata": {
    "ExecuteTime": {
     "end_time": "2020-04-30T11:16:52.765528Z",
     "start_time": "2020-04-30T11:16:52.760983Z"
    }
   },
   "outputs": [],
   "source": [
    "import pandas as pd\n",
    "import seaborn as sns\n",
    "import matplotlib.pyplot as plt\n",
    "from ast import literal_eval\n",
    "from fuzzywuzzy import process\n",
    "import re"
   ]
  },
  {
   "cell_type": "markdown",
   "metadata": {},
   "source": [
    "---"
   ]
  },
  {
   "cell_type": "code",
   "execution_count": 296,
   "metadata": {
    "ExecuteTime": {
     "end_time": "2020-04-30T11:46:41.438676Z",
     "start_time": "2020-04-30T11:46:41.434778Z"
    }
   },
   "outputs": [],
   "source": [
    "def drop_breaks(lyrics):\n",
    "    '''\n",
    "    Strip our section marker from lyrics i.e. ['Verse 1'] and line breaks\n",
    "    '''\n",
    "    return re.sub(r'\\[(.*?)\\]', '', lyrics)"
   ]
  },
  {
   "cell_type": "code",
   "execution_count": 300,
   "metadata": {
    "ExecuteTime": {
     "end_time": "2020-04-30T11:53:58.900210Z",
     "start_time": "2020-04-30T11:53:58.895858Z"
    }
   },
   "outputs": [],
   "source": [
    "def clean_sections(lyrics):\n",
    "    '''\n",
    "    Strip breaks and clean empty elements from lyrics lists\n",
    "    '''\n",
    "    return list(filter(None, [drop_breaks(x) for x in lyrics]))"
   ]
  },
  {
   "cell_type": "code",
   "execution_count": 304,
   "metadata": {
    "ExecuteTime": {
     "end_time": "2020-04-30T11:57:17.920568Z",
     "start_time": "2020-04-30T11:57:17.915923Z"
    }
   },
   "outputs": [],
   "source": [
    "def import_lyrics(lyric):\n",
    "    df = pd.read_csv('{}.csv'.format(lyric), index_col=0)\n",
    "    df.year = pd.to_datetime(df.year)\n",
    "    df['lyrics'] = df['lyrics'].apply(lambda x: literal_eval(x))\n",
    "    df['lyrics'] = df['lyrics'].apply(lambda x: clean_sections(x))\n",
    "    \n",
    "    return df"
   ]
  },
  {
   "cell_type": "code",
   "execution_count": 307,
   "metadata": {
    "ExecuteTime": {
     "end_time": "2020-04-30T11:58:37.805479Z",
     "start_time": "2020-04-30T11:58:37.798613Z"
    }
   },
   "outputs": [],
   "source": [
    "def rhyming_pattern(string):\n",
    "    '''\n",
    "    Find phrases either side of desired phrase\n",
    "    '''\n",
    "    surrounding_lyrics = []\n",
    "    for i,v in enumerate(string):\n",
    "        if process.default_scorer(lyric.lower(), v.lower()) > 70:\n",
    "            try:\n",
    "                surrounding_lyrics.append([string[i-1].lower(), v.lower(), string[i+1].lower()])\n",
    "            except:\n",
    "                surrounding_lyrics.append(v.lower())\n",
    "                \n",
    "    return surrounding_lyrics"
   ]
  },
  {
   "cell_type": "code",
   "execution_count": null,
   "metadata": {
    "ExecuteTime": {
     "end_time": "2020-04-30T12:05:54.507035Z",
     "start_time": "2020-04-30T12:05:54.500362Z"
    }
   },
   "outputs": [],
   "source": [
    "def create_report(lyric):\n",
    "    '''\n",
    "    Generate report on a certain lyric:\n",
    "    - Show when first used and most recently used\n",
    "    - \n",
    "    '''\n",
    "    df = import_lyrics(lyric)\n",
    "    print('''The lyric \"{}\" first appeared in {} in the song: {} - {}.\\n\\nMost recently it appeared in {} in the song: {} - {}.'''\\\n",
    "                                                 .format(lyric,\n",
    "                                                         df['year'].min().year,\n",
    "                                                         df['title'].iloc[gp['year'].idxmin()],\n",
    "                                                         df['artist'].iloc[gp['year'].idxmin()],\n",
    "                                                         df['year'].max().year,\n",
    "                                                         df['title'].iloc[gp['year'].idxmax()],\n",
    "                                                         df['artist'].iloc[gp['year'].idxmax()]\n",
    "                                                        ))"
   ]
  },
  {
   "cell_type": "markdown",
   "metadata": {},
   "source": [
    "---"
   ]
  },
  {
   "cell_type": "code",
   "execution_count": 324,
   "metadata": {
    "ExecuteTime": {
     "end_time": "2020-04-30T12:05:55.800886Z",
     "start_time": "2020-04-30T12:05:55.796717Z"
    }
   },
   "outputs": [],
   "source": [
    "lyric = 'grey poupon'"
   ]
  },
  {
   "cell_type": "code",
   "execution_count": 326,
   "metadata": {
    "ExecuteTime": {
     "end_time": "2020-04-30T12:06:02.522399Z",
     "start_time": "2020-04-30T12:06:02.484468Z"
    }
   },
   "outputs": [
    {
     "name": "stdout",
     "output_type": "stream",
     "text": [
      "The lyric \"grey poupon\" first appeared in 1992 in the song: East Coast - Das EFX.\n",
      "\n",
      "Most recently it appeared in 2020 in the song: Royce Da 5'9\" Freestyle | L.A. Leakers - Freestyle #100 - Royce da 5'9'’.\n"
     ]
    }
   ],
   "source": [
    "create_report(lyric)"
   ]
  },
  {
   "cell_type": "code",
   "execution_count": 327,
   "metadata": {
    "ExecuteTime": {
     "end_time": "2020-04-30T12:09:12.369900Z",
     "start_time": "2020-04-30T12:09:11.885082Z"
    }
   },
   "outputs": [
    {
     "data": {
      "text/plain": [
       "[[\"i stay modest 'bout it, ayy, she elaborate it, ayy\",\n",
       "  'this that grey poupon, that evian, that ted talk, ayy',\n",
       "  'watch my soul speak, you let the meds talk, ayy']]"
      ]
     },
     "execution_count": 327,
     "metadata": {},
     "output_type": "execute_result"
    }
   ],
   "source": [
    "gp['lyrics'].apply(lambda x: rhyming_pattern(x))[0]"
   ]
  },
  {
   "cell_type": "code",
   "execution_count": null,
   "metadata": {},
   "outputs": [],
   "source": []
  }
 ],
 "metadata": {
  "kernelspec": {
   "display_name": "Python 3",
   "language": "python",
   "name": "python3"
  },
  "language_info": {
   "codemirror_mode": {
    "name": "ipython",
    "version": 3
   },
   "file_extension": ".py",
   "mimetype": "text/x-python",
   "name": "python",
   "nbconvert_exporter": "python",
   "pygments_lexer": "ipython3",
   "version": "3.7.3"
  },
  "varInspector": {
   "cols": {
    "lenName": 16,
    "lenType": 16,
    "lenVar": 40
   },
   "kernels_config": {
    "python": {
     "delete_cmd_postfix": "",
     "delete_cmd_prefix": "del ",
     "library": "var_list.py",
     "varRefreshCmd": "print(var_dic_list())"
    },
    "r": {
     "delete_cmd_postfix": ") ",
     "delete_cmd_prefix": "rm(",
     "library": "var_list.r",
     "varRefreshCmd": "cat(var_dic_list()) "
    }
   },
   "types_to_exclude": [
    "module",
    "function",
    "builtin_function_or_method",
    "instance",
    "_Feature"
   ],
   "window_display": false
  }
 },
 "nbformat": 4,
 "nbformat_minor": 2
}

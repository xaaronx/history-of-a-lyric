{
 "cells": [
  {
   "cell_type": "markdown",
   "metadata": {},
   "source": [
    "# Data collection - *a lyric's history and usage*"
   ]
  },
  {
   "cell_type": "markdown",
   "metadata": {},
   "source": []
  },
  {
   "cell_type": "code",
   "execution_count": 37,
   "metadata": {
    "ExecuteTime": {
     "end_time": "2020-04-28T14:58:23.433607Z",
     "start_time": "2020-04-28T14:58:22.385531Z"
    }
   },
   "outputs": [],
   "source": [
    "import requests\n",
    "from re import sub\n",
    "import lyricsgenius as genius\n",
    "import time\n",
    "import pandas as pd"
   ]
  },
  {
   "cell_type": "markdown",
   "metadata": {},
   "source": [
    "Go to https://docs.genius.com/#/authentication-h1 to collect the below token - no sign-in required."
   ]
  },
  {
   "cell_type": "code",
   "execution_count": 2,
   "metadata": {
    "ExecuteTime": {
     "end_time": "2020-04-28T14:45:54.959457Z",
     "start_time": "2020-04-28T14:45:54.949030Z"
    }
   },
   "outputs": [],
   "source": [
    "client_access_token = 'aKoyAcFSc5wKOQ7-_FWLU3sEPfT6H5av8vVNdiuP4lvEA1jWINFKr9nIiUaSXzVH'"
   ]
  },
  {
   "cell_type": "markdown",
   "metadata": {},
   "source": [
    "## Functions"
   ]
  },
  {
   "cell_type": "code",
   "execution_count": 3,
   "metadata": {
    "ExecuteTime": {
     "end_time": "2020-04-28T14:45:56.732886Z",
     "start_time": "2020-04-28T14:45:56.726225Z"
    }
   },
   "outputs": [],
   "source": [
    "def prep_sdk(auth_code):\n",
    "    '''\n",
    "    Bring in genius sdk for more complex searches\n",
    "    '''\n",
    "    return genius.Genius(auth_code)"
   ]
  },
  {
   "cell_type": "code",
   "execution_count": 41,
   "metadata": {
    "ExecuteTime": {
     "end_time": "2020-04-28T14:59:37.353421Z",
     "start_time": "2020-04-28T14:59:37.346177Z"
    }
   },
   "outputs": [],
   "source": [
    "def get_artists_and_songs(response):\n",
    "    '''\n",
    "    Convert request info to output of artist and song\n",
    "    '''\n",
    "    output = []\n",
    "    for resp in response.json()['response']['hits']:\n",
    "        try:\n",
    "            output.append((resp['result']['title'],\n",
    "                          resp['result']['primary_artist']['name'],\n",
    "                          resp['result']['stats']['pageviews']))\n",
    "        except:\n",
    "            pass\n",
    "        \n",
    "    return output"
   ]
  },
  {
   "cell_type": "code",
   "execution_count": 93,
   "metadata": {
    "ExecuteTime": {
     "end_time": "2020-04-28T16:22:02.295504Z",
     "start_time": "2020-04-28T16:22:02.291340Z"
    }
   },
   "outputs": [],
   "source": [
    "def extract_song(title, artist, sdk_object):\n",
    "    '''\n",
    "    Collect all song object\n",
    "    '''\n",
    "    song = sdk_object.search_song(title=title, artist=artist)\n",
    "    \n",
    "    if song.artist==artist and song.title==title:\n",
    "        return song"
   ]
  },
  {
   "cell_type": "code",
   "execution_count": 76,
   "metadata": {
    "ExecuteTime": {
     "end_time": "2020-04-28T15:31:07.145198Z",
     "start_time": "2020-04-28T15:31:07.138107Z"
    }
   },
   "outputs": [],
   "source": [
    "def find_surrounding_lyrics(query, lyrics):\n",
    "    '''\n",
    "    Finds where a lyric is in context of the song\n",
    "    '''\n",
    "    output_lyric_blocks = []\n",
    "    for i,v in enumerate(lyrics.split('\\n')):\n",
    "        if query.lower() in v.lower():\n",
    "            output_lyric_blocks.append([lyrics.split('\\n')[i-1],\n",
    "                                       lyrics.split('\\n')[i],\n",
    "                                       lyrics.split('\\n')[i+1]])\n",
    "    return output_lyric_blocks\n"
   ]
  },
  {
   "cell_type": "code",
   "execution_count": 108,
   "metadata": {
    "ExecuteTime": {
     "end_time": "2020-04-28T16:32:36.157827Z",
     "start_time": "2020-04-28T16:32:36.145468Z"
    }
   },
   "outputs": [],
   "source": [
    "def collect_lyrics(raw_lyric, auth_code, max_pages, sdk_object):\n",
    "    '''\n",
    "    Convert string to correct format, issue request\n",
    "    and collect artist and song\n",
    "    '''\n",
    "    \n",
    "    lyric_query = sub('\\s+','%20', raw_lyric).lower()\n",
    "    request_uri = 'https://api.genius.com/search/?q={}'.format(lyric_query)\n",
    "    token = 'Bearer {}'.format(auth_code)\n",
    "    headers = {'Authorization': token}\n",
    "    \n",
    "    current_page = 1\n",
    "    next_page = True\n",
    "    songs = []\n",
    "    while next_page:\n",
    "        params = {'page': current_page}\n",
    "        print('Searching page {}....'.format(current_page))\n",
    "        result = get_artists_and_songs(requests.get(request_uri, headers=headers, params=params))\n",
    "        if result:\n",
    "            songs += result\n",
    "            current_page += 1\n",
    "        else:\n",
    "            next_page = False\n",
    "        if current_page>int(max_pages):\n",
    "            break\n",
    "            \n",
    "    data = [song for song in songs if not raw_lyric.lower() in song[1].lower()]\n",
    "    dataframe = pd.DataFrame(data, columns=['title', 'artist', 'pageviews'])\n",
    "    \n",
    "    song_objects = dataframe[['title', 'artist']]\\\n",
    "                    .apply(lambda row: extract_song(row[0], row[1], sdk_object), axis=1)\n",
    "    \n",
    "    \n",
    "    dataframe['lyrics'] = [find_surrounding_lyrics(raw_lyric, song.lyrics) for song in song_objects]\n",
    "    dataframe['year'] = [song.year for song in song_objects]\n",
    "    \n",
    "    return dataframe"
   ]
  },
  {
   "cell_type": "markdown",
   "metadata": {},
   "source": [
    "## Exectute"
   ]
  },
  {
   "cell_type": "code",
   "execution_count": 111,
   "metadata": {
    "ExecuteTime": {
     "end_time": "2020-04-28T16:35:31.059178Z",
     "start_time": "2020-04-28T16:34:47.119793Z"
    }
   },
   "outputs": [
    {
     "name": "stdout",
     "output_type": "stream",
     "text": [
      "What lyric would you like to look for?\n",
      "megatron\n",
      "How many pages do you want to search through?\n",
      "5\n",
      "Searching page 1....\n",
      "Searching page 2....\n",
      "                     title       artist  pageviews\n",
      "0                 MEGATRON  Nicki Minaj     333907\n",
      "1                 MEGATRON       Laylow      23729\n",
      "2  Outro (Planet Megatron)          RIN      11994\n",
      "3                Megatron*   The Weeknd      14785\n",
      "Searching for \"MEGATRON\" by Nicki Minaj...\n",
      "Done.\n",
      "Searching for \"MEGATRON\" by Laylow...\n",
      "Done.\n",
      "Searching for \"Outro (Planet Megatron)\" by RIN...\n",
      "Done.\n",
      "Searching for \"Megatron*\" by The Weeknd...\n",
      "Done.\n"
     ]
    }
   ],
   "source": [
    "output = collect_lyrics(input('What lyric would you like to look for?\\n'),\n",
    "                        client_access_token,\n",
    "                        input('How many pages do you want to search through?\\n'),\n",
    "                        prep_sdk(client_access_token))\n"
   ]
  },
  {
   "cell_type": "code",
   "execution_count": 112,
   "metadata": {
    "ExecuteTime": {
     "end_time": "2020-04-28T16:35:33.104700Z",
     "start_time": "2020-04-28T16:35:33.091717Z"
    }
   },
   "outputs": [
    {
     "data": {
      "text/html": [
       "<div>\n",
       "<style scoped>\n",
       "    .dataframe tbody tr th:only-of-type {\n",
       "        vertical-align: middle;\n",
       "    }\n",
       "\n",
       "    .dataframe tbody tr th {\n",
       "        vertical-align: top;\n",
       "    }\n",
       "\n",
       "    .dataframe thead th {\n",
       "        text-align: right;\n",
       "    }\n",
       "</style>\n",
       "<table border=\"1\" class=\"dataframe\">\n",
       "  <thead>\n",
       "    <tr style=\"text-align: right;\">\n",
       "      <th></th>\n",
       "      <th>title</th>\n",
       "      <th>artist</th>\n",
       "      <th>pageviews</th>\n",
       "      <th>lyrics</th>\n",
       "      <th>year</th>\n",
       "    </tr>\n",
       "  </thead>\n",
       "  <tbody>\n",
       "    <tr>\n",
       "      <th>0</th>\n",
       "      <td>MEGATRON</td>\n",
       "      <td>Nicki Minaj</td>\n",
       "      <td>333907</td>\n",
       "      <td>[[[Verse 1], They call me Megatron, just did a...</td>\n",
       "      <td>2019-06-21</td>\n",
       "    </tr>\n",
       "    <tr>\n",
       "      <th>1</th>\n",
       "      <td>MEGATRON</td>\n",
       "      <td>Laylow</td>\n",
       "      <td>23729</td>\n",
       "      <td>[]</td>\n",
       "      <td>2019-12-11</td>\n",
       "    </tr>\n",
       "    <tr>\n",
       "      <th>2</th>\n",
       "      <td>Outro (Planet Megatron)</td>\n",
       "      <td>RIN</td>\n",
       "      <td>11994</td>\n",
       "      <td>[[Hur'nsöhne!, [Songtext zu „Outro (Planet Meg...</td>\n",
       "      <td>2018-06-22</td>\n",
       "    </tr>\n",
       "    <tr>\n",
       "      <th>3</th>\n",
       "      <td>Megatron*</td>\n",
       "      <td>The Weeknd</td>\n",
       "      <td>14785</td>\n",
       "      <td>[]</td>\n",
       "      <td>None</td>\n",
       "    </tr>\n",
       "  </tbody>\n",
       "</table>\n",
       "</div>"
      ],
      "text/plain": [
       "                     title       artist  pageviews  \\\n",
       "0                 MEGATRON  Nicki Minaj     333907   \n",
       "1                 MEGATRON       Laylow      23729   \n",
       "2  Outro (Planet Megatron)          RIN      11994   \n",
       "3                Megatron*   The Weeknd      14785   \n",
       "\n",
       "                                              lyrics        year  \n",
       "0  [[[Verse 1], They call me Megatron, just did a...  2019-06-21  \n",
       "1                                                 []  2019-12-11  \n",
       "2  [[Hur'nsöhne!, [Songtext zu „Outro (Planet Meg...  2018-06-22  \n",
       "3                                                 []        None  "
      ]
     },
     "execution_count": 112,
     "metadata": {},
     "output_type": "execute_result"
    }
   ],
   "source": [
    "output"
   ]
  },
  {
   "cell_type": "code",
   "execution_count": null,
   "metadata": {},
   "outputs": [],
   "source": []
  }
 ],
 "metadata": {
  "kernelspec": {
   "display_name": "Python 3",
   "language": "python",
   "name": "python3"
  },
  "language_info": {
   "codemirror_mode": {
    "name": "ipython",
    "version": 3
   },
   "file_extension": ".py",
   "mimetype": "text/x-python",
   "name": "python",
   "nbconvert_exporter": "python",
   "pygments_lexer": "ipython3",
   "version": "3.7.3"
  },
  "varInspector": {
   "cols": {
    "lenName": 16,
    "lenType": 16,
    "lenVar": 40
   },
   "kernels_config": {
    "python": {
     "delete_cmd_postfix": "",
     "delete_cmd_prefix": "del ",
     "library": "var_list.py",
     "varRefreshCmd": "print(var_dic_list())"
    },
    "r": {
     "delete_cmd_postfix": ") ",
     "delete_cmd_prefix": "rm(",
     "library": "var_list.r",
     "varRefreshCmd": "cat(var_dic_list()) "
    }
   },
   "types_to_exclude": [
    "module",
    "function",
    "builtin_function_or_method",
    "instance",
    "_Feature"
   ],
   "window_display": false
  }
 },
 "nbformat": 4,
 "nbformat_minor": 2
}
